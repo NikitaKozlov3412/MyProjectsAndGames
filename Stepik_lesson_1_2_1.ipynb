{
 "cells": [
  {
   "metadata": {
    "ExecuteTime": {
     "end_time": "2025-10-22T20:18:44.747121Z",
     "start_time": "2025-10-22T20:18:44.744076Z"
    }
   },
   "cell_type": "code",
   "source": [
    "# Шаг 1_2_4\n",
    "print(\"Hello, Stepik & Coursera!\" )\n"
   ],
   "id": "eef2ba925de25bfc",
   "outputs": [
    {
     "name": "stdout",
     "output_type": "stream",
     "text": [
      "Hello, Stepik & Coursera!\n"
     ]
    }
   ],
   "execution_count": 1
  },
  {
   "metadata": {
    "ExecuteTime": {
     "end_time": "2025-10-22T20:18:49.686653Z",
     "start_time": "2025-10-22T20:18:46.285071Z"
    }
   },
   "cell_type": "code",
   "source": [
    "# Шаг 1_2_5\n",
    "person = input()\n",
    "print(\"Hello,\", person)"
   ],
   "id": "69e1e91f7cc15fe7",
   "outputs": [
    {
     "name": "stdout",
     "output_type": "stream",
     "text": [
      "Hello, Anna\n"
     ]
    }
   ],
   "execution_count": 2
  },
  {
   "metadata": {
    "ExecuteTime": {
     "end_time": "2025-10-23T19:34:17.601034Z",
     "start_time": "2025-10-23T19:34:07.929807Z"
    }
   },
   "cell_type": "code",
   "source": [
    "# Шаг 1_2_6\n",
    "a_name = input()\n",
    "b_name = input()\n",
    "print(\"Hello,\", a_name)\n",
    "print(\"Hello,\", b_name)"
   ],
   "id": "f6abc5d8a5f9629b",
   "outputs": [
    {
     "name": "stdout",
     "output_type": "stream",
     "text": [
      "Hello, Anna\n",
      "Hello, Aleksey\n"
     ]
    }
   ],
   "execution_count": 2
  },
  {
   "metadata": {
    "ExecuteTime": {
     "end_time": "2025-10-23T19:39:28.903611Z",
     "start_time": "2025-10-23T19:39:19.362898Z"
    }
   },
   "cell_type": "code",
   "source": [
    "# Шаг 1_2_7\n",
    "a = int(input())\n",
    "b = int(input())\n",
    "c = a+b\n",
    "print(c)\n",
    "\n",
    "# дополнение к заданию\n",
    "d = input()\n",
    "e = input()\n",
    "f = d+e\n",
    "print(f)\n"
   ],
   "id": "738a9d8f571da8b0",
   "outputs": [
    {
     "name": "stdout",
     "output_type": "stream",
     "text": [
      "15\n",
      "411\n"
     ]
    }
   ],
   "execution_count": 6
  },
  {
   "metadata": {
    "ExecuteTime": {
     "end_time": "2025-10-23T20:07:38.838270Z",
     "start_time": "2025-10-23T20:07:38.835493Z"
    }
   },
   "cell_type": "code",
   "source": [
    "# Шаг 2_1_1\n",
    "import math\n",
    "\n",
    "a = (2**3**2 - math.log(math.e**(2*math.sin(math.pi/2)), math.e) - 10)/100\n",
    "b = int(a)\n",
    "print(a)\n",
    "print(b)"
   ],
   "id": "d4396eca58ac1870",
   "outputs": [
    {
     "name": "stdout",
     "output_type": "stream",
     "text": [
      "5.0\n",
      "5\n"
     ]
    }
   ],
   "execution_count": 23
  }
 ],
 "metadata": {
  "kernelspec": {
   "display_name": "Python 3",
   "language": "python",
   "name": "python3"
  },
  "language_info": {
   "codemirror_mode": {
    "name": "ipython",
    "version": 2
   },
   "file_extension": ".py",
   "mimetype": "text/x-python",
   "name": "python",
   "nbconvert_exporter": "python",
   "pygments_lexer": "ipython2",
   "version": "2.7.6"
  }
 },
 "nbformat": 4,
 "nbformat_minor": 5
}
