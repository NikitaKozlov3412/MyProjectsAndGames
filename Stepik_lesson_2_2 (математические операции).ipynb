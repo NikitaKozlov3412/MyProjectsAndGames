{
 "cells": [
  {
   "metadata": {
    "ExecuteTime": {
     "end_time": "2025-10-25T11:23:03.566022Z",
     "start_time": "2025-10-25T11:23:03.563446Z"
    }
   },
   "cell_type": "code",
   "source": [
    "# сложение\n",
    "a = 1\n",
    "a += 3 #4\n",
    "print(a)"
   ],
   "id": "7bc23059d919ae73",
   "outputs": [
    {
     "name": "stdout",
     "output_type": "stream",
     "text": [
      "4\n"
     ]
    }
   ],
   "execution_count": 3
  },
  {
   "metadata": {
    "ExecuteTime": {
     "end_time": "2025-10-25T11:23:38.860948Z",
     "start_time": "2025-10-25T11:23:38.858827Z"
    }
   },
   "cell_type": "code",
   "source": [
    "# вычитание\n",
    "a = 1\n",
    "a -= 3 #-2\n",
    "print(a)"
   ],
   "id": "f96a4e9db8f77d40",
   "outputs": [
    {
     "name": "stdout",
     "output_type": "stream",
     "text": [
      "-2\n"
     ]
    }
   ],
   "execution_count": 4
  },
  {
   "metadata": {
    "ExecuteTime": {
     "end_time": "2025-10-25T11:24:50.657469Z",
     "start_time": "2025-10-25T11:24:50.655306Z"
    }
   },
   "cell_type": "code",
   "source": [
    "# деление\n",
    "a = 8\n",
    "a /= 2 #4.0\n",
    "print(a)"
   ],
   "id": "a4de3b3a31e45beb",
   "outputs": [
    {
     "name": "stdout",
     "output_type": "stream",
     "text": [
      "4.0\n"
     ]
    }
   ],
   "execution_count": 5
  },
  {
   "metadata": {
    "ExecuteTime": {
     "end_time": "2025-10-25T11:26:32.070824Z",
     "start_time": "2025-10-25T11:26:32.068506Z"
    }
   },
   "cell_type": "code",
   "source": [
    "# взятие остатка от деления\n",
    "a = 17\n",
    "a %= 6 #5\n",
    "print(a)"
   ],
   "id": "ac1669e4163b2df1",
   "outputs": [
    {
     "name": "stdout",
     "output_type": "stream",
     "text": [
      "5\n"
     ]
    }
   ],
   "execution_count": 9
  },
  {
   "metadata": {
    "ExecuteTime": {
     "end_time": "2025-10-25T11:27:12.024515Z",
     "start_time": "2025-10-25T11:27:12.022267Z"
    }
   },
   "cell_type": "code",
   "source": [
    "# возведение в степень\n",
    "a = 2\n",
    "a **= 5 #32\n",
    "print(a)"
   ],
   "id": "3f849c4d5b841b93",
   "outputs": [
    {
     "name": "stdout",
     "output_type": "stream",
     "text": [
      "32\n"
     ]
    }
   ],
   "execution_count": 11
  },
  {
   "metadata": {
    "ExecuteTime": {
     "end_time": "2025-10-25T11:27:50.776023Z",
     "start_time": "2025-10-25T11:27:50.773944Z"
    }
   },
   "cell_type": "code",
   "source": [
    "# умножение\n",
    "a = 3\n",
    "a *= 7 #21\n",
    "print(a)"
   ],
   "id": "10c75716d44b338d",
   "outputs": [
    {
     "name": "stdout",
     "output_type": "stream",
     "text": [
      "21\n"
     ]
    }
   ],
   "execution_count": 12
  },
  {
   "metadata": {
    "ExecuteTime": {
     "end_time": "2025-10-25T11:29:19.185353Z",
     "start_time": "2025-10-25T11:29:19.183043Z"
    }
   },
   "cell_type": "code",
   "source": [
    "# целочисленное деление\n",
    "a = 22\n",
    "a //= 5 #4\n",
    "print(a)"
   ],
   "id": "affb7179d5b86f6e",
   "outputs": [
    {
     "name": "stdout",
     "output_type": "stream",
     "text": [
      "4\n"
     ]
    }
   ],
   "execution_count": 14
  },
  {
   "metadata": {},
   "cell_type": "code",
   "outputs": [],
   "execution_count": null,
   "source": "",
   "id": "da9929eaa79cdc6a"
  }
 ],
 "metadata": {
  "kernelspec": {
   "display_name": "Python 3",
   "language": "python",
   "name": "python3"
  },
  "language_info": {
   "codemirror_mode": {
    "name": "ipython",
    "version": 2
   },
   "file_extension": ".py",
   "mimetype": "text/x-python",
   "name": "python",
   "nbconvert_exporter": "python",
   "pygments_lexer": "ipython2",
   "version": "2.7.6"
  }
 },
 "nbformat": 4,
 "nbformat_minor": 5
}
