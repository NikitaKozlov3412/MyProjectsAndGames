{
 "cells": [
  {
   "metadata": {
    "ExecuteTime": {
     "end_time": "2025-10-25T11:23:03.566022Z",
     "start_time": "2025-10-25T11:23:03.563446Z"
    }
   },
   "cell_type": "code",
   "source": [
    "# сложение\n",
    "a = 1\n",
    "a += 3 #4\n",
    "print(a)"
   ],
   "id": "7bc23059d919ae73",
   "outputs": [
    {
     "name": "stdout",
     "output_type": "stream",
     "text": [
      "4\n"
     ]
    }
   ],
   "execution_count": 3
  },
  {
   "metadata": {
    "ExecuteTime": {
     "end_time": "2025-10-25T11:23:38.860948Z",
     "start_time": "2025-10-25T11:23:38.858827Z"
    }
   },
   "cell_type": "code",
   "source": [
    "# вычитание\n",
    "a = 1\n",
    "a -= 3 #-2\n",
    "print(a)"
   ],
   "id": "f96a4e9db8f77d40",
   "outputs": [
    {
     "name": "stdout",
     "output_type": "stream",
     "text": [
      "-2\n"
     ]
    }
   ],
   "execution_count": 4
  },
  {
   "metadata": {
    "ExecuteTime": {
     "end_time": "2025-10-25T11:24:50.657469Z",
     "start_time": "2025-10-25T11:24:50.655306Z"
    }
   },
   "cell_type": "code",
   "source": [
    "# деление\n",
    "a = 8\n",
    "a /= 2 #4.0\n",
    "print(a)"
   ],
   "id": "a4de3b3a31e45beb",
   "outputs": [
    {
     "name": "stdout",
     "output_type": "stream",
     "text": [
      "4.0\n"
     ]
    }
   ],
   "execution_count": 5
  },
  {
   "metadata": {
    "ExecuteTime": {
     "end_time": "2025-10-25T11:26:32.070824Z",
     "start_time": "2025-10-25T11:26:32.068506Z"
    }
   },
   "cell_type": "code",
   "source": [
    "# взятие остатка от деления\n",
    "a = 17\n",
    "a %= 6 #5\n",
    "print(a)"
   ],
   "id": "ac1669e4163b2df1",
   "outputs": [
    {
     "name": "stdout",
     "output_type": "stream",
     "text": [
      "5\n"
     ]
    }
   ],
   "execution_count": 9
  },
  {
   "metadata": {
    "ExecuteTime": {
     "end_time": "2025-10-25T11:32:47.099205Z",
     "start_time": "2025-10-25T11:32:47.096541Z"
    }
   },
   "cell_type": "code",
   "source": [
    "# возведение в степень\n",
    "a = 2\n",
    "a **= 5 #32\n",
    "print(a)"
   ],
   "id": "3f849c4d5b841b93",
   "outputs": [
    {
     "name": "stdout",
     "output_type": "stream",
     "text": [
      "32\n"
     ]
    }
   ],
   "execution_count": 16
  },
  {
   "metadata": {
    "ExecuteTime": {
     "end_time": "2025-10-25T11:27:50.776023Z",
     "start_time": "2025-10-25T11:27:50.773944Z"
    }
   },
   "cell_type": "code",
   "source": [
    "# умножение\n",
    "a = 3\n",
    "a *= 7 #21\n",
    "print(a)"
   ],
   "id": "10c75716d44b338d",
   "outputs": [
    {
     "name": "stdout",
     "output_type": "stream",
     "text": [
      "21\n"
     ]
    }
   ],
   "execution_count": 12
  },
  {
   "metadata": {
    "ExecuteTime": {
     "end_time": "2025-10-25T11:32:54.227401Z",
     "start_time": "2025-10-25T11:32:54.224623Z"
    }
   },
   "cell_type": "code",
   "source": [
    "# целочисленное деление\n",
    "a = 22\n",
    "a //= 5 #4\n",
    "print(a)"
   ],
   "id": "affb7179d5b86f6e",
   "outputs": [
    {
     "name": "stdout",
     "output_type": "stream",
     "text": [
      "4\n"
     ]
    }
   ],
   "execution_count": 17
  },
  {
   "metadata": {
    "ExecuteTime": {
     "end_time": "2025-10-25T19:21:14.876503Z",
     "start_time": "2025-10-25T19:21:12.053664Z"
    }
   },
   "cell_type": "code",
   "source": [
    "# Шаг 2_2_4\n",
    "\n",
    "a = int(input())\n",
    "b = int(input())\n",
    "\n",
    "c = a+b\n",
    "d = a-b\n",
    "e = b-a\n",
    "f = a*b\n",
    "g = a/b\n",
    "h = b%a\n",
    "i = a**b\n",
    "\n",
    "'''\n",
    "print(c)\n",
    "print(d)\n",
    "print(e)\n",
    "print(f)\n",
    "print(g)\n",
    "print(h)\n",
    "print(i)\n",
    "'''\n",
    "print(c, d, e, f, g, h, i, sep='\\n')"
   ],
   "id": "da9929eaa79cdc6a",
   "outputs": [
    {
     "name": "stdout",
     "output_type": "stream",
     "text": [
      "16\n",
      "-2\n",
      "2\n",
      "63\n",
      "0.7777777777777778\n",
      "2\n",
      "40353607\n"
     ]
    }
   ],
   "execution_count": 9
  },
  {
   "metadata": {
    "ExecuteTime": {
     "end_time": "2025-10-26T11:56:33.833412Z",
     "start_time": "2025-10-26T11:56:26.834633Z"
    }
   },
   "cell_type": "code",
   "source": [
    "# Шаг 2_2_5\n",
    "\n",
    "a = int(input())\n",
    "b = int(input())\n",
    "c = a // b\n",
    "print(c)\n",
    "\n",
    "# print(int(input())//int(input()))"
   ],
   "id": "eafd0bb77130cdd7",
   "outputs": [
    {
     "name": "stdout",
     "output_type": "stream",
     "text": [
      "4\n"
     ]
    }
   ],
   "execution_count": 6
  },
  {
   "metadata": {
    "ExecuteTime": {
     "end_time": "2025-10-26T12:04:22.303637Z",
     "start_time": "2025-10-26T12:04:13.865031Z"
    }
   },
   "cell_type": "code",
   "source": [
    "# Шаг 2_2_6\n",
    "# Площадь и периметр треугольника\n",
    "# a = int(input())\n",
    "# b = int(input())\n",
    "# c = int(input())\n",
    "a, b, c = [int(input()) for _ in range(3)]\n",
    "P = a + b + c\n",
    "p = P/2\n",
    "S = (p*(p-a)*(p-b)*(p-c))**0.5\n",
    "print(P)\n",
    "# print(p)\n",
    "print(S)\n",
    "# недостаток: нет проверки на условие существования треугольника (типа a + b > c, b + c > a, a + c > b)"
   ],
   "id": "28fc84637c98a06c",
   "outputs": [
    {
     "name": "stdout",
     "output_type": "stream",
     "text": [
      "102\n",
      "376.807643234582\n"
     ]
    }
   ],
   "execution_count": 14
  },
  {
   "metadata": {
    "ExecuteTime": {
     "end_time": "2025-10-26T12:14:57.356036Z",
     "start_time": "2025-10-26T12:14:57.349174Z"
    }
   },
   "cell_type": "code",
   "source": [
    "# Шаг 2_2_7\n",
    "'''\n",
    "Способы округления\n",
    "int(x) - Округляет число в сторону нуля. Это стандартная функция, для ее использования не нужно подключать модуль math.\n",
    "round(x) - Округляет число до ближайшего целого. Если дробная часть числа равна 0.5, то число округляется до ближайшего четного числа.\n",
    "round(x, n) - Округляет число x до n знаков после точки. Это стандартная функция, для ее использования не нужно подключать модуль math.\n",
    "math.floor(x) - Округляет число вниз («пол»), при этом floor(1.5) == 1, floor(-1.5) == -2 Требует импорта math.\n",
    "math.ceil(x) - Округляет число вверх («потолок»), при этом ceil(1.5) == 2, ceil(-1.5) == -1  Требует импорта math.\n",
    "abs(x) - Модуль (абсолютная величина). Это — стандартная функция.\n",
    "numpy.around(List, decimals=n) - Округляет все числа из numpy массива или списка List до n знаков после запятой. Требует импорта модуля numpy. Аналог round для списков/массивов/матриц.\n",
    "'''"
   ],
   "id": "b06aacebc9b4fa8b",
   "outputs": [
    {
     "data": {
      "text/plain": [
       "'\\nСпособы округления\\nint(x) - Округляет число в сторону нуля. Это стандартная функция, для ее использования не нужно подключать модуль math.\\nround(x) - Округляет число до ближайшего целого. Если дробная часть числа равна 0.5, то число округляется до ближайшего четного числа.\\nround(x, n) - Округляет число x до n знаков после точки. Это стандартная функция, для ее использования не нужно подключать модуль math.\\nmath.floor(x) - Округляет число вниз («пол»), при этом floor(1.5) == 1, floor(-1.5) == -2 Требует импорта math.\\nmath.ceil(x) - Округляет число вверх («потолок»), при этом ceil(1.5) == 2, ceil(-1.5) == -1  Требует импорта math.\\nabs(x) - Модуль (абсолютная величина). Это — стандартная функция.\\nnumpy.around(List, decimals=n) - Округляет все числа из numpy массива или списка List до n знаков после запятой. Требует импорта модуля numpy. Аналог round для списков/массивов/матриц.\\n'"
      ]
     },
     "execution_count": 15,
     "metadata": {},
     "output_type": "execute_result"
    }
   ],
   "execution_count": 15
  },
  {
   "metadata": {
    "ExecuteTime": {
     "end_time": "2025-10-26T12:25:41.033294Z",
     "start_time": "2025-10-26T12:25:32.023170Z"
    }
   },
   "cell_type": "code",
   "source": [
    "# Шаг 2_2_8\n",
    "# Площадь ромба\n",
    "\n",
    "d1, d2 = [float(input()) for _ in range(2)]\n",
    "\n",
    "S1 = int((d1*d2)/2)\n",
    "S2 = round((d1*d2)/2, 1)\n",
    "S3 = (d1*d2)/2\n",
    "print(S1, S2, S3, sep = '\\n')"
   ],
   "id": "8b68dee6a99d14de",
   "outputs": [
    {
     "name": "stdout",
     "output_type": "stream",
     "text": [
      "13\n",
      "13.7\n",
      "13.68\n"
     ]
    }
   ],
   "execution_count": 24
  },
  {
   "metadata": {
    "ExecuteTime": {
     "end_time": "2025-10-26T13:10:31.949856Z",
     "start_time": "2025-10-26T13:10:29.371660Z"
    }
   },
   "cell_type": "code",
   "source": [
    "# Шаг 2_2_9\n",
    "'''\n",
    "Нарисован правильный шестиугольник со стороной a.\n",
    "К 5 сторонам этого шестиугольника снаружи дорисовали по правильному треугольнику.\n",
    "Найдите площадь получившейся фигуры.\n",
    "На вход подаётся 1 строка - длина стороны правильного шестиугольника.\n",
    "Ответ округлите до целых.\n",
    "'''\n",
    "import math as mt\n",
    "a = float(input())\n",
    "S = round(11*(a**2)*mt.sqrt(3)/4)\n",
    "print(S)"
   ],
   "id": "f8694415f8c3f6bc",
   "outputs": [
    {
     "name": "stdout",
     "output_type": "stream",
     "text": [
      "1072\n"
     ]
    }
   ],
   "execution_count": 3
  },
  {
   "metadata": {
    "ExecuteTime": {
     "end_time": "2025-10-26T13:16:08.584226Z",
     "start_time": "2025-10-26T13:16:06.528102Z"
    }
   },
   "cell_type": "code",
   "source": [
    "# Шаг 2_2_10\n",
    "'''\n",
    "На плоскости нарисован правильный шестиугольник с длиной стороны a.\n",
    "У 3 сторон шестиугольника нарисовали по квадрату с длиной стороны, равной стороне шестиугольника.\n",
    "Оставшиеся 3 стороны разделили пополам, после чего нарисовали по равностороннему треугольнику, касающемуся каждого из получившихся половинных отрезков.\n",
    "Найдите площадь получившейся фигуры.\n",
    "На вход подаётся 1 строка - длина стороны шестиугольника.\n",
    "Ответ округлите до целых.\n",
    "'''\n",
    "\n",
    "import math as mt\n",
    "a = float(input())\n",
    "S1 = 6*(a**2)*mt.sqrt(3)/4\n",
    "S2 = 3*(a**2)\n",
    "S3 = 6*((a/2)**2)*mt.sqrt(3)/4\n",
    "S = round(S1 + S2 + S3)\n",
    "print(S)\n",
    "\n"
   ],
   "id": "1eea2d3f6164d859",
   "outputs": [
    {
     "name": "stdout",
     "output_type": "stream",
     "text": [
      "400\n"
     ]
    }
   ],
   "execution_count": 8
  },
  {
   "metadata": {
    "ExecuteTime": {
     "end_time": "2025-10-26T13:32:19.791028Z",
     "start_time": "2025-10-26T13:32:18.579015Z"
    }
   },
   "cell_type": "code",
   "source": [
    "# Шаг 2_2_11\n",
    "\n",
    "'''\n",
    "На вход программа получает 1 строку - длину ребра додекаэдра.\n",
    "Используя формулы из Wiki найдите площадь поверхности и объём фигуры.\n",
    "Ответ округлите до 2 знака после запятой.\n",
    "'''\n",
    "\n",
    "'''\n",
    "# Одно из решений пользователей в одну строку\n",
    "(lambda a:print(f\"{a**2*20.64573:.2f}\\n{a**3* 7.66312:.2f}\"))(float(input()))\n",
    "'''\n",
    "\n",
    "import math as mt\n",
    "a = float(input())\n",
    "S = round(3*(a**2)*(mt.sqrt(5*(5+2*mt.sqrt(5)))), 2)\n",
    "V = round(((a**3)/4*(15+7*mt.sqrt(5))), 2)\n",
    "print(S)\n",
    "print(V)\n",
    "\n",
    "\n"
   ],
   "id": "19143b75c1cf467d",
   "outputs": [
    {
     "name": "stdout",
     "output_type": "stream",
     "text": [
      "82.58\n",
      "61.3\n"
     ]
    }
   ],
   "execution_count": 22
  },
  {
   "metadata": {
    "ExecuteTime": {
     "end_time": "2025-10-26T13:42:33.448573Z",
     "start_time": "2025-10-26T13:42:25.053687Z"
    }
   },
   "cell_type": "code",
   "source": [
    "# Шаг 2_2_12\n",
    "'''\n",
    "Задача фон Неймана о мухе и поездах\n",
    "Два поезда находятся на расстоянии L км друг от друга и приближаются по одной колее, развивают скорости\n",
    "v1 км/ч и v2 км/ч, соответственно. С ветрового стекла одного локомотива в начальный момент движения взлетает муха и принимается летать со скоростью\n",
    "vm км/ч вперед и назад между поездами, пока те, столкнувшись, не раздавят ее.\n",
    "\n",
    "Какое расстояние успевает пролететь муха до столкновения поездов?\n",
    "\n",
    "На вход подаётся 4 натуральных числа:\n",
    "L, v1, v2, vm\n",
    "Ответом будет 1 натуральное число\n",
    "\n",
    "Примечание. Это простая математическая задача, здесь не нужны циклы или ряды.\n",
    "Условие задачи гарантирует, что vm>v1, vm>v2.\n",
    "'''\n",
    "\n",
    "L, v1, v2, vm = [int(input()) for _ in range(4)]\n",
    "\n",
    "tpoezdov = L/(v1+v2)\n",
    "tm = tpoezdov\n",
    "Lm = int(tm*vm)\n",
    "print(Lm)\n"
   ],
   "id": "b5c6e7376d8cb3bb",
   "outputs": [
    {
     "name": "stdout",
     "output_type": "stream",
     "text": [
      "120\n"
     ]
    }
   ],
   "execution_count": 25
  }
 ],
 "metadata": {
  "kernelspec": {
   "display_name": "Python 3",
   "language": "python",
   "name": "python3"
  },
  "language_info": {
   "codemirror_mode": {
    "name": "ipython",
    "version": 2
   },
   "file_extension": ".py",
   "mimetype": "text/x-python",
   "name": "python",
   "nbconvert_exporter": "python",
   "pygments_lexer": "ipython2",
   "version": "2.7.6"
  }
 },
 "nbformat": 4,
 "nbformat_minor": 5
}
