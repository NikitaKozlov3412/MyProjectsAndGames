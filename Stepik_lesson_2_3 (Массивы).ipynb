{
 "cells": [
  {
   "metadata": {
    "ExecuteTime": {
     "end_time": "2025-10-27T17:50:40.402372Z",
     "start_time": "2025-10-27T17:50:40.398840Z"
    }
   },
   "cell_type": "code",
   "source": [
    "# Шаг 2_3_1\n",
    "'''\n",
    "Данная тема является более сложной, чем хотелось бы во вводной части, однако для решения интересных задач необходимо рассмотреть хотя бы основы.\n",
    "\n",
    "в лекциях были даны 3 типа массивов:\n",
    "\n",
    "изменяемые (списки) - list()\n",
    "неизменяемые (кортежи) - tuple()\n",
    "неупорядоченные, без повторений (множества) - set()\n",
    "По аналогии с численными типами данных массивы можно переводить из одного типа в другой:\n",
    "'''\n",
    "L = [1, 2, 3, 4, 5, 1, 2]\n",
    "print(type(L), L)"
   ],
   "id": "fd514beb299118f6",
   "outputs": [
    {
     "name": "stdout",
     "output_type": "stream",
     "text": [
      "<class 'list'> [1, 2, 3, 4, 5, 1, 2]\n"
     ]
    }
   ],
   "execution_count": 1
  },
  {
   "metadata": {
    "ExecuteTime": {
     "end_time": "2025-10-27T17:51:08.348448Z",
     "start_time": "2025-10-27T17:51:08.345773Z"
    }
   },
   "cell_type": "code",
   "source": [
    "L = tuple(L)\n",
    "print(type(L), L)"
   ],
   "id": "e718f2b022ed4959",
   "outputs": [
    {
     "name": "stdout",
     "output_type": "stream",
     "text": [
      "<class 'tuple'> (1, 2, 3, 4, 5, 1, 2)\n"
     ]
    }
   ],
   "execution_count": 2
  },
  {
   "metadata": {
    "ExecuteTime": {
     "end_time": "2025-10-27T17:51:30.387486Z",
     "start_time": "2025-10-27T17:51:30.385268Z"
    }
   },
   "cell_type": "code",
   "source": [
    "L = set(L)\n",
    "print(type(L), L)"
   ],
   "id": "3f28e39a86bb6be",
   "outputs": [
    {
     "name": "stdout",
     "output_type": "stream",
     "text": [
      "<class 'set'> {1, 2, 3, 4, 5}\n"
     ]
    }
   ],
   "execution_count": 3
  },
  {
   "metadata": {
    "ExecuteTime": {
     "end_time": "2025-10-27T17:53:22.849562Z",
     "start_time": "2025-10-27T17:53:22.846946Z"
    }
   },
   "cell_type": "code",
   "source": [
    "# Этим пользуются для типичной операции удаления дубликатов из списка:\n",
    "L = [1, 2, 3, 4, 5, 1, 2]\n",
    "print(type(L), L)\n",
    "L = set(L)\n",
    "print(type(L), L)\n",
    "L = list(L)\n",
    "print(type(L), L)"
   ],
   "id": "1cffe00060d4e361",
   "outputs": [
    {
     "name": "stdout",
     "output_type": "stream",
     "text": [
      "<class 'list'> [1, 2, 3, 4, 5, 1, 2]\n",
      "<class 'set'> {1, 2, 3, 4, 5}\n",
      "<class 'list'> [1, 2, 3, 4, 5]\n"
     ]
    }
   ],
   "execution_count": 4
  },
  {
   "metadata": {
    "ExecuteTime": {
     "end_time": "2025-10-27T17:53:59.257486Z",
     "start_time": "2025-10-27T17:53:59.255393Z"
    }
   },
   "cell_type": "code",
   "source": [
    "'''\n",
    "Но почему же выше написано, что множество - неупорядоченный массив? До сих пор всё было в порядке.\n",
    "Однако, рассмотрим простой пример:\n",
    "'''\n",
    "L = {1, 1111111111111111, 2}\n",
    "print(type(L), L) # в уроке вывод такой: {1111111111111111, 2, 1}"
   ],
   "id": "6387910fa31efe65",
   "outputs": [
    {
     "name": "stdout",
     "output_type": "stream",
     "text": [
      "<class 'set'> {1, 2, 1111111111111111}\n"
     ]
    }
   ],
   "execution_count": 5
  },
  {
   "metadata": {
    "ExecuteTime": {
     "end_time": "2025-10-27T17:55:38.264203Z",
     "start_time": "2025-10-27T17:55:38.259627Z"
    }
   },
   "cell_type": "code",
   "source": [
    "'''\n",
    "Причина такого поведения - механизм адресации для элементов множества. Для них используются не индексы (как в списке или кортеже), а хеши от значений. И хеши иногда могут быть упорядочены совсем иначе, нежели значения...\n",
    "'''"
   ],
   "id": "16f6399b4368e9ca",
   "outputs": [
    {
     "data": {
      "text/plain": [
       "'\\nПричина такого поведения - механизм адресации для элементов множества. Для них используются не индексы (как в списке или кортеже), а хеши от значений. И хеши иногда могут быть упорядочены совсем иначе, нежели значения...\\n'"
      ]
     },
     "execution_count": 6,
     "metadata": {},
     "output_type": "execute_result"
    }
   ],
   "execution_count": 6
  },
  {
   "metadata": {
    "ExecuteTime": {
     "end_time": "2025-10-27T18:10:53.833347Z",
     "start_time": "2025-10-27T18:10:53.829943Z"
    }
   },
   "cell_type": "code",
   "source": [
    "# Шаг 2_3_2\n",
    "# frozenset\n",
    "\n",
    "# ==========================================================\n",
    "# frozenset — неизменяемое множество\n",
    "# ==========================================================\n",
    "\n",
    "# Данный тип не изучался в лекциях, мы не будем его использовать подробно.\n",
    "# Однако важно знать: frozenset — это \"замороженное\" множество.\n",
    "# Единственное отличие set от frozenset заключается в том,\n",
    "# что set — изменяемый тип данных, а frozenset — нет.\n",
    "\n",
    "# ----------------------------------------------------------\n",
    "# Создание множеств\n",
    "# ----------------------------------------------------------\n",
    "\n",
    "a = set('qwerty')\n",
    "b = frozenset('qwerty')\n",
    "\n",
    "# Проверим, равны ли множества\n",
    "print(a == b)   # True\n",
    "\n",
    "# ----------------------------------------------------------\n",
    "# Разность и объединение работают\n",
    "# ----------------------------------------------------------\n",
    "\n",
    "print(type(a - b))   # <class 'set'>\n",
    "print(type(a | b))   # <class 'set'>\n",
    "\n",
    "# ----------------------------------------------------------\n",
    "# Но frozenset неизменяемый: методы add/remove недоступны\n",
    "# ----------------------------------------------------------\n",
    "\n",
    "a.add(1)   # Это сработает\n",
    "print(a)\n",
    "\n",
    "try:\n",
    "    b.add(1)   # Ошибка: frozenset не поддерживает добавление\n",
    "except AttributeError as e:\n",
    "    print(e)   # 'frozenset' object has no attribute 'add'\n",
    "\n",
    "# ----------------------------------------------------------\n",
    "# Итого:\n",
    "# set — изменяемое множество (можно добавлять/удалять элементы)\n",
    "# frozenset — неизменяемое множество, но поддерживает операции:\n",
    "#   - объединение (|)\n",
    "#   - пересечение (&)\n",
    "#   - разность (-)\n",
    "#   - симметричная разность (^)\n"
   ],
   "id": "6eda0e1b0d9ad6ea",
   "outputs": [
    {
     "name": "stdout",
     "output_type": "stream",
     "text": [
      "True\n",
      "<class 'set'>\n",
      "<class 'set'>\n",
      "{1, 'w', 't', 'r', 'y', 'q', 'e'}\n",
      "'frozenset' object has no attribute 'add'\n"
     ]
    }
   ],
   "execution_count": 11
  },
  {
   "metadata": {
    "ExecuteTime": {
     "end_time": "2025-10-27T18:21:18.939404Z",
     "start_time": "2025-10-27T18:21:18.936577Z"
    }
   },
   "cell_type": "code",
   "source": [
    "# Шаг 2_3_3\n",
    "# split()\n",
    "'''\n",
    "Один из наиболее полезных методов, который будет очень часто использоваться в данном практикуме для формирования входных данных.\n",
    "split() позволяет разрезать строку на подстроки, и возвращает список этих подстрок.\n",
    "Пример.\n",
    "'''\n",
    "splitted_line = \"Ivanov Ivan Ivanovich\".split()\n",
    "print (splitted_line)"
   ],
   "id": "25e4f4a990d86244",
   "outputs": [
    {
     "name": "stdout",
     "output_type": "stream",
     "text": [
      "['Ivanov', 'Ivan', 'Ivanovich']\n"
     ]
    }
   ],
   "execution_count": 13
  },
  {
   "metadata": {
    "ExecuteTime": {
     "end_time": "2025-10-27T18:27:35.790564Z",
     "start_time": "2025-10-27T18:27:35.787717Z"
    }
   },
   "cell_type": "code",
   "source": [
    "# Если не указан разделитель (как выше), то \"разрезание\" производится по пробелам, переносам строки и символам табуляции:\n",
    "S = '''First string\n",
    "Second string\n",
    "Third string\\twith\\ttabs\n",
    "'''\n",
    "print(S.split())\n",
    "print(S.split(' '))\n",
    "print(S.split('\\n'))\n",
    "print(S.split('\\t')) # табуляция не сработала, поэтому пришлось писать '\\t' везде вручную"
   ],
   "id": "efd8d747c3c9b351",
   "outputs": [
    {
     "name": "stdout",
     "output_type": "stream",
     "text": [
      "['First', 'string', 'Second', 'string', 'Third', 'string', 'with', 'tabs']\n",
      "['First', 'string\\nSecond', 'string\\nThird', 'string\\twith\\ttabs\\n']\n",
      "['First string', 'Second string', 'Third string\\twith\\ttabs', '']\n",
      "['First string\\nSecond string\\nThird string', 'with', 'tabs\\n']\n"
     ]
    }
   ],
   "execution_count": 23
  },
  {
   "metadata": {
    "ExecuteTime": {
     "end_time": "2025-10-27T18:27:38.633724Z",
     "start_time": "2025-10-27T18:27:38.631495Z"
    }
   },
   "cell_type": "code",
   "source": [
    "# В качестве разделителя может использовать любой символ:\n",
    "S = 'Some string with text'\n",
    "print(S.split('e'))"
   ],
   "id": "634138dfe3924591",
   "outputs": [
    {
     "name": "stdout",
     "output_type": "stream",
     "text": [
      "['Som', ' string with t', 'xt']\n"
     ]
    }
   ],
   "execution_count": 24
  },
  {
   "metadata": {
    "ExecuteTime": {
     "end_time": "2025-10-27T18:42:36.507011Z",
     "start_time": "2025-10-27T18:42:32.238516Z"
    }
   },
   "cell_type": "code",
   "source": [
    "# Шаг 2_3_4\n",
    "'''\n",
    "На вход подаётся строка из 3 целых чисел.\n",
    "Найдите сумму чисел.\n",
    "'''\n",
    "list = str(input())\n",
    "nums = list.split()\n",
    "# print(nums)\n",
    "a, b, c = map(int, nums)\n",
    "# print(a, b, c)\n",
    "print(a + b + c)"
   ],
   "id": "8ad5d0a9af171a8f",
   "outputs": [
    {
     "name": "stdout",
     "output_type": "stream",
     "text": [
      "8\n"
     ]
    }
   ],
   "execution_count": 45
  },
  {
   "metadata": {},
   "cell_type": "code",
   "outputs": [],
   "execution_count": null,
   "source": "",
   "id": "23712f1a4e33a562"
  }
 ],
 "metadata": {
  "kernelspec": {
   "display_name": "Python 3",
   "language": "python",
   "name": "python3"
  },
  "language_info": {
   "codemirror_mode": {
    "name": "ipython",
    "version": 2
   },
   "file_extension": ".py",
   "mimetype": "text/x-python",
   "name": "python",
   "nbconvert_exporter": "python",
   "pygments_lexer": "ipython2",
   "version": "2.7.6"
  }
 },
 "nbformat": 4,
 "nbformat_minor": 5
}
